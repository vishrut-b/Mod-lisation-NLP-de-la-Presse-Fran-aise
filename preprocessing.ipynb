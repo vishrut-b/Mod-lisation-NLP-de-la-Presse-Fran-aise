{
 "cells": [
  {
   "cell_type": "markdown",
   "id": "1bc4536a-1cc9-4431-aca8-97f9a0ee1f9b",
   "metadata": {},
   "source": [
    "### **Topic Modeling** : \n",
    "\n",
    "In the previous notebook, I expeirmented with ```newsAPI```, but the primary issue with this package is that it only provides truncated articles. For the purpose of my project, I wanted complete articles."
   ]
  },
  {
   "cell_type": "code",
   "execution_count": 23,
   "id": "b3f978ac-2546-4a20-85b3-04a013fb11b8",
   "metadata": {},
   "outputs": [],
   "source": [
    "import torch\n",
    "import spacy\n",
    "import json\n",
    "import matplotlib.pyplot as plt\n",
    "import numpy as np\n",
    "import umap.umap_ as umap\n",
    "import nltk\n",
    "from sklearn.feature_extraction.text import TfidfVectorizer\n",
    "from transformers import CamembertTokenizer, CamembertModel\n",
    "import warnings\n",
    "from bertopic import BERTopic\n",
    "import re # regular expressions\n",
    "import unicodedata"
   ]
  },
  {
   "cell_type": "markdown",
   "id": "fad08290-5766-47fa-ad45-94bb3e60b1f2",
   "metadata": {},
   "source": [
    "#### Step 1 : Load Processed Data"
   ]
  },
  {
   "cell_type": "code",
   "execution_count": 9,
   "id": "a9d09941-3306-494b-ba63-03d7cf3f01ac",
   "metadata": {},
   "outputs": [],
   "source": [
    "# Loading the \"enriched collection of articles from the JSON file, where they have been previously stored.\n",
    "file_path = \"../NLP Project/enriched_french_news_articles.json\"\n",
    "\n",
    "with open(file_path, encoding = \"utf-8\") as f:\n",
    "    articles = json.load(f)    \n",
    "\n",
    "# Storing only the \"full_text\" part of all the articles in a list.\n",
    "enriched_articles = [article.get(\"full_text\", \"\") for article in articles]"
   ]
  },
  {
   "cell_type": "code",
   "execution_count": 10,
   "id": "ffc906f7-f9ed-4a25-b66f-ac51e327a1dd",
   "metadata": {},
   "outputs": [
    {
     "name": "stdout",
     "output_type": "stream",
     "text": [
      "Néanmoins, la marque coréenne assure avoir finalement corrigé la chose. Il faut dire que le déploiement a été retardé à plusieurs reprises, après la d ...\n"
     ]
    }
   ],
   "source": [
    "print(enriched_articles[0][:150],\"...\")"
   ]
  },
  {
   "cell_type": "code",
   "execution_count": 11,
   "id": "6bafb410-b078-494d-a2dd-b95513380c13",
   "metadata": {},
   "outputs": [
    {
     "name": "stdout",
     "output_type": "stream",
     "text": [
      "This list enriched_articles contains 525 articles.\n"
     ]
    }
   ],
   "source": [
    "print(\"This list enriched_articles contains\", len(enriched_articles), \"articles.\")"
   ]
  },
  {
   "cell_type": "markdown",
   "id": "e8033417-ab58-4e5b-8c32-6939ccbc065c",
   "metadata": {},
   "source": [
    "Just as a sanity check, it might be useful to plot a ```histogram``` showing the distribution of the numbers of words per article."
   ]
  },
  {
   "cell_type": "code",
   "execution_count": 12,
   "id": "1fa8eda3-2a91-4aca-bdeb-3eead475cf0b",
   "metadata": {},
   "outputs": [
    {
     "name": "stdout",
     "output_type": "stream",
     "text": [
      "Shortest article has 216 words\n",
      "Longest article has 54118 words\n"
     ]
    },
    {
     "data": {
      "image/png": "[encoded data removed]",
      "text/plain": [
       "<Figure size 400x300 with 1 Axes>"
      ]
     },
     "metadata": {},
     "output_type": "display_data"
    }
   ],
   "source": [
    "lengths = [len(article) for article in enriched_articles]\n",
    "print(f\"Shortest article has {min(lengths)} words\")\n",
    "print(f\"Longest article has {max(lengths)} words\")\n",
    "plt.figure(figsize = (4,3))\n",
    "plt.hist(lengths, bins = 50)\n",
    "plt.xlabel('No. of words')\n",
    "plt.ylabel('Count (articles)')\n",
    "plt.show()\n",
    "del lengths"
   ]
  },
  {
   "cell_type": "markdown",
   "id": "101fa515-cbb6-48d8-be85-ccf79ea7bb10",
   "metadata": {},
   "source": [
    "At this stage, we have a list called enriched_articles where each item is basically the primary article content. We have 500+ such article as our primary data set."
   ]
  },
  {
   "cell_type": "markdown",
   "id": "9353f645-947a-4e2f-8741-4c9d49c1ebbb",
   "metadata": {},
   "source": [
    "#### Step 2 : **```Tokenization```**."
   ]
  },
  {
   "cell_type": "markdown",
   "id": "1922c176-4839-4202-99a5-2c95a01af9b9",
   "metadata": {},
   "source": [
    "*Must download ```spaCy```’s French model to tokenize, lemmatize, and remove stopwords.*"
   ]
  },
  {
   "cell_type": "code",
   "execution_count": 14,
   "id": "07fc00c4-14a2-4279-af48-3f898d45db63",
   "metadata": {},
   "outputs": [],
   "source": [
    "nlp = spacy.load(\"fr_core_news_sm\")"
   ]
  },
  {
   "cell_type": "markdown",
   "id": "8c0a1764-8188-406f-9b71-fdc288332594",
   "metadata": {},
   "source": [
    "**Note** : Lemmatisation is the process of reducing the different forms of a word to one single form, for example, reducing \"builds\", \"building\", or \"built\" to the lemma \"build\"."
   ]
  },
  {
   "cell_type": "markdown",
   "id": "20caf494-288e-4cd7-84d6-26b3f79fae4d",
   "metadata": {},
   "source": [
    "**spaCy.nlp** : Tokenisation, Lemmatization and some cleaning."
   ]
  },
  {
   "cell_type": "code",
   "execution_count": 16,
   "id": "7c4508a4-43e1-4e2d-927c-2508b3a2d2d8",
   "metadata": {
    "collapsed": true,
    "jupyter": {
     "outputs_hidden": true
    },
    "scrolled": true
   },
   "outputs": [
    {
     "ename": "KeyboardInterrupt",
     "evalue": "",
     "output_type": "error",
     "traceback": [
      "\u001b[1;31m---------------------------------------------------------------------------\u001b[0m",
      "\u001b[1;31mKeyboardInterrupt\u001b[0m                         Traceback (most recent call last)",
      "Cell \u001b[1;32mIn[16], line 16\u001b[0m\n\u001b[0;32m     13\u001b[0m     \u001b[38;5;28;01mreturn\u001b[39;00m \u001b[38;5;124m\"\u001b[39m\u001b[38;5;124m \u001b[39m\u001b[38;5;124m\"\u001b[39m\u001b[38;5;241m.\u001b[39mjoin(tokens)\n\u001b[0;32m     15\u001b[0m \u001b[38;5;66;03m# Apply preprocessing to all texts\u001b[39;00m\n\u001b[1;32m---> 16\u001b[0m cleaned_lemmatized_texts \u001b[38;5;241m=\u001b[39m \u001b[43m[\u001b[49m\u001b[43mpreprocess_text\u001b[49m\u001b[43m(\u001b[49m\u001b[43mt\u001b[49m\u001b[43m)\u001b[49m\u001b[43m \u001b[49m\u001b[38;5;28;43;01mfor\u001b[39;49;00m\u001b[43m \u001b[49m\u001b[43mt\u001b[49m\u001b[43m \u001b[49m\u001b[38;5;129;43;01min\u001b[39;49;00m\u001b[43m \u001b[49m\u001b[43menriched_articles\u001b[49m\u001b[43m]\u001b[49m\n",
      "Cell \u001b[1;32mIn[16], line 16\u001b[0m, in \u001b[0;36m<listcomp>\u001b[1;34m(.0)\u001b[0m\n\u001b[0;32m     13\u001b[0m     \u001b[38;5;28;01mreturn\u001b[39;00m \u001b[38;5;124m\"\u001b[39m\u001b[38;5;124m \u001b[39m\u001b[38;5;124m\"\u001b[39m\u001b[38;5;241m.\u001b[39mjoin(tokens)\n\u001b[0;32m     15\u001b[0m \u001b[38;5;66;03m# Apply preprocessing to all texts\u001b[39;00m\n\u001b[1;32m---> 16\u001b[0m cleaned_lemmatized_texts \u001b[38;5;241m=\u001b[39m [\u001b[43mpreprocess_text\u001b[49m\u001b[43m(\u001b[49m\u001b[43mt\u001b[49m\u001b[43m)\u001b[49m \u001b[38;5;28;01mfor\u001b[39;00m t \u001b[38;5;129;01min\u001b[39;00m enriched_articles]\n",
      "Cell \u001b[1;32mIn[16], line 7\u001b[0m, in \u001b[0;36mpreprocess_text\u001b[1;34m(text)\u001b[0m\n\u001b[0;32m      4\u001b[0m \u001b[38;5;28;01mdef\u001b[39;00m \u001b[38;5;21mpreprocess_text\u001b[39m(text):\n\u001b[0;32m      5\u001b[0m \n\u001b[0;32m      6\u001b[0m     \u001b[38;5;66;03m# Run spaCy lemmatization on cleaned text\u001b[39;00m\n\u001b[1;32m----> 7\u001b[0m     doc \u001b[38;5;241m=\u001b[39m \u001b[43mnlp\u001b[49m\u001b[43m(\u001b[49m\u001b[43mtext\u001b[49m\u001b[43m)\u001b[49m\n\u001b[0;32m      8\u001b[0m     tokens \u001b[38;5;241m=\u001b[39m [\n\u001b[0;32m      9\u001b[0m         token\u001b[38;5;241m.\u001b[39mlemma_\u001b[38;5;241m.\u001b[39mlower()\n\u001b[0;32m     10\u001b[0m         \u001b[38;5;28;01mfor\u001b[39;00m token \u001b[38;5;129;01min\u001b[39;00m doc\n\u001b[0;32m     11\u001b[0m         \u001b[38;5;28;01mif\u001b[39;00m token\u001b[38;5;241m.\u001b[39mis_alpha \u001b[38;5;129;01mand\u001b[39;00m \u001b[38;5;129;01mnot\u001b[39;00m token\u001b[38;5;241m.\u001b[39mis_stop\n\u001b[0;32m     12\u001b[0m     ]\n\u001b[0;32m     13\u001b[0m     \u001b[38;5;28;01mreturn\u001b[39;00m \u001b[38;5;124m\"\u001b[39m\u001b[38;5;124m \u001b[39m\u001b[38;5;124m\"\u001b[39m\u001b[38;5;241m.\u001b[39mjoin(tokens)\n",
      "File \u001b[1;32mc:\\Users\\guill\\anaconda3\\envs\\pytorchproject\\Lib\\site-packages\\spacy\\language.py:1052\u001b[0m, in \u001b[0;36mLanguage.__call__\u001b[1;34m(self, text, disable, component_cfg)\u001b[0m\n\u001b[0;32m   1050\u001b[0m     error_handler \u001b[38;5;241m=\u001b[39m proc\u001b[38;5;241m.\u001b[39mget_error_handler()\n\u001b[0;32m   1051\u001b[0m \u001b[38;5;28;01mtry\u001b[39;00m:\n\u001b[1;32m-> 1052\u001b[0m     doc \u001b[38;5;241m=\u001b[39m \u001b[43mproc\u001b[49m\u001b[43m(\u001b[49m\u001b[43mdoc\u001b[49m\u001b[43m,\u001b[49m\u001b[43m \u001b[49m\u001b[38;5;241;43m*\u001b[39;49m\u001b[38;5;241;43m*\u001b[39;49m\u001b[43mcomponent_cfg\u001b[49m\u001b[38;5;241;43m.\u001b[39;49m\u001b[43mget\u001b[49m\u001b[43m(\u001b[49m\u001b[43mname\u001b[49m\u001b[43m,\u001b[49m\u001b[43m \u001b[49m\u001b[43m{\u001b[49m\u001b[43m}\u001b[49m\u001b[43m)\u001b[49m\u001b[43m)\u001b[49m  \u001b[38;5;66;03m# type: ignore[call-arg]\u001b[39;00m\n\u001b[0;32m   1053\u001b[0m \u001b[38;5;28;01mexcept\u001b[39;00m \u001b[38;5;167;01mKeyError\u001b[39;00m \u001b[38;5;28;01mas\u001b[39;00m e:\n\u001b[0;32m   1054\u001b[0m     \u001b[38;5;66;03m# This typically happens if a component is not initialized\u001b[39;00m\n\u001b[0;32m   1055\u001b[0m     \u001b[38;5;28;01mraise\u001b[39;00m \u001b[38;5;167;01mValueError\u001b[39;00m(Errors\u001b[38;5;241m.\u001b[39mE109\u001b[38;5;241m.\u001b[39mformat(name\u001b[38;5;241m=\u001b[39mname)) \u001b[38;5;28;01mfrom\u001b[39;00m \u001b[38;5;21;01me\u001b[39;00m\n",
      "File \u001b[1;32mc:\\Users\\guill\\anaconda3\\envs\\pytorchproject\\Lib\\site-packages\\spacy\\pipeline\\trainable_pipe.pyx:52\u001b[0m, in \u001b[0;36mspacy.pipeline.trainable_pipe.TrainablePipe.__call__\u001b[1;34m()\u001b[0m\n",
      "File \u001b[1;32mc:\\Users\\guill\\anaconda3\\envs\\pytorchproject\\Lib\\site-packages\\spacy\\pipeline\\transition_parser.pyx:264\u001b[0m, in \u001b[0;36mspacy.pipeline.transition_parser.Parser.predict\u001b[1;34m()\u001b[0m\n",
      "File \u001b[1;32mc:\\Users\\guill\\anaconda3\\envs\\pytorchproject\\Lib\\site-packages\\spacy\\pipeline\\transition_parser.pyx:285\u001b[0m, in \u001b[0;36mspacy.pipeline.transition_parser.Parser.greedy_parse\u001b[1;34m()\u001b[0m\n",
      "File \u001b[1;32mc:\\Users\\guill\\anaconda3\\envs\\pytorchproject\\Lib\\site-packages\\thinc\\model.py:334\u001b[0m, in \u001b[0;36mModel.predict\u001b[1;34m(self, X)\u001b[0m\n\u001b[0;32m    330\u001b[0m \u001b[38;5;28;01mdef\u001b[39;00m \u001b[38;5;21mpredict\u001b[39m(\u001b[38;5;28mself\u001b[39m, X: InT) \u001b[38;5;241m-\u001b[39m\u001b[38;5;241m>\u001b[39m OutT:\n\u001b[0;32m    331\u001b[0m \u001b[38;5;250m    \u001b[39m\u001b[38;5;124;03m\"\"\"Call the model's `forward` function with `is_train=False`, and return\u001b[39;00m\n\u001b[0;32m    332\u001b[0m \u001b[38;5;124;03m    only the output, instead of the `(output, callback)` tuple.\u001b[39;00m\n\u001b[0;32m    333\u001b[0m \u001b[38;5;124;03m    \"\"\"\u001b[39;00m\n\u001b[1;32m--> 334\u001b[0m     \u001b[38;5;28;01mreturn\u001b[39;00m \u001b[38;5;28;43mself\u001b[39;49m\u001b[38;5;241;43m.\u001b[39;49m\u001b[43m_func\u001b[49m\u001b[43m(\u001b[49m\u001b[38;5;28;43mself\u001b[39;49m\u001b[43m,\u001b[49m\u001b[43m \u001b[49m\u001b[43mX\u001b[49m\u001b[43m,\u001b[49m\u001b[43m \u001b[49m\u001b[43mis_train\u001b[49m\u001b[38;5;241;43m=\u001b[39;49m\u001b[38;5;28;43;01mFalse\u001b[39;49;00m\u001b[43m)\u001b[49m[\u001b[38;5;241m0\u001b[39m]\n",
      "File \u001b[1;32mc:\\Users\\guill\\anaconda3\\envs\\pytorchproject\\Lib\\site-packages\\spacy\\ml\\tb_framework.py:34\u001b[0m, in \u001b[0;36mforward\u001b[1;34m(model, X, is_train)\u001b[0m\n\u001b[0;32m     33\u001b[0m \u001b[38;5;28;01mdef\u001b[39;00m \u001b[38;5;21mforward\u001b[39m(model, X, is_train):\n\u001b[1;32m---> 34\u001b[0m     step_model \u001b[38;5;241m=\u001b[39m \u001b[43mParserStepModel\u001b[49m\u001b[43m(\u001b[49m\n\u001b[0;32m     35\u001b[0m \u001b[43m        \u001b[49m\u001b[43mX\u001b[49m\u001b[43m,\u001b[49m\n\u001b[0;32m     36\u001b[0m \u001b[43m        \u001b[49m\u001b[43mmodel\u001b[49m\u001b[38;5;241;43m.\u001b[39;49m\u001b[43mlayers\u001b[49m\u001b[43m,\u001b[49m\n\u001b[0;32m     37\u001b[0m \u001b[43m        \u001b[49m\u001b[43munseen_classes\u001b[49m\u001b[38;5;241;43m=\u001b[39;49m\u001b[43mmodel\u001b[49m\u001b[38;5;241;43m.\u001b[39;49m\u001b[43mattrs\u001b[49m\u001b[43m[\u001b[49m\u001b[38;5;124;43m\"\u001b[39;49m\u001b[38;5;124;43munseen_classes\u001b[39;49m\u001b[38;5;124;43m\"\u001b[39;49m\u001b[43m]\u001b[49m\u001b[43m,\u001b[49m\n\u001b[0;32m     38\u001b[0m \u001b[43m        \u001b[49m\u001b[43mtrain\u001b[49m\u001b[38;5;241;43m=\u001b[39;49m\u001b[43mis_train\u001b[49m\u001b[43m,\u001b[49m\n\u001b[0;32m     39\u001b[0m \u001b[43m        \u001b[49m\u001b[43mhas_upper\u001b[49m\u001b[38;5;241;43m=\u001b[39;49m\u001b[43mmodel\u001b[49m\u001b[38;5;241;43m.\u001b[39;49m\u001b[43mattrs\u001b[49m\u001b[43m[\u001b[49m\u001b[38;5;124;43m\"\u001b[39;49m\u001b[38;5;124;43mhas_upper\u001b[39;49m\u001b[38;5;124;43m\"\u001b[39;49m\u001b[43m]\u001b[49m\u001b[43m,\u001b[49m\n\u001b[0;32m     40\u001b[0m \u001b[43m    \u001b[49m\u001b[43m)\u001b[49m\n\u001b[0;32m     42\u001b[0m     \u001b[38;5;28;01mreturn\u001b[39;00m step_model, step_model\u001b[38;5;241m.\u001b[39mfinish_steps\n",
      "File \u001b[1;32mc:\\Users\\guill\\anaconda3\\envs\\pytorchproject\\Lib\\site-packages\\spacy\\ml\\parser_model.pyx:250\u001b[0m, in \u001b[0;36mspacy.ml.parser_model.ParserStepModel.__init__\u001b[1;34m()\u001b[0m\n",
      "File \u001b[1;32mc:\\Users\\guill\\anaconda3\\envs\\pytorchproject\\Lib\\site-packages\\thinc\\model.py:310\u001b[0m, in \u001b[0;36mModel.__call__\u001b[1;34m(self, X, is_train)\u001b[0m\n\u001b[0;32m    307\u001b[0m \u001b[38;5;28;01mdef\u001b[39;00m \u001b[38;5;21m__call__\u001b[39m(\u001b[38;5;28mself\u001b[39m, X: InT, is_train: \u001b[38;5;28mbool\u001b[39m) \u001b[38;5;241m-\u001b[39m\u001b[38;5;241m>\u001b[39m Tuple[OutT, Callable]:\n\u001b[0;32m    308\u001b[0m \u001b[38;5;250m    \u001b[39m\u001b[38;5;124;03m\"\"\"Call the model's `forward` function, returning the output and a\u001b[39;00m\n\u001b[0;32m    309\u001b[0m \u001b[38;5;124;03m    callback to compute the gradients via backpropagation.\"\"\"\u001b[39;00m\n\u001b[1;32m--> 310\u001b[0m     \u001b[38;5;28;01mreturn\u001b[39;00m \u001b[38;5;28;43mself\u001b[39;49m\u001b[38;5;241;43m.\u001b[39;49m\u001b[43m_func\u001b[49m\u001b[43m(\u001b[49m\u001b[38;5;28;43mself\u001b[39;49m\u001b[43m,\u001b[49m\u001b[43m \u001b[49m\u001b[43mX\u001b[49m\u001b[43m,\u001b[49m\u001b[43m \u001b[49m\u001b[43mis_train\u001b[49m\u001b[38;5;241;43m=\u001b[39;49m\u001b[43mis_train\u001b[49m\u001b[43m)\u001b[49m\n",
      "File \u001b[1;32mc:\\Users\\guill\\anaconda3\\envs\\pytorchproject\\Lib\\site-packages\\thinc\\layers\\chain.py:54\u001b[0m, in \u001b[0;36mforward\u001b[1;34m(model, X, is_train)\u001b[0m\n\u001b[0;32m     52\u001b[0m callbacks \u001b[38;5;241m=\u001b[39m []\n\u001b[0;32m     53\u001b[0m \u001b[38;5;28;01mfor\u001b[39;00m layer \u001b[38;5;129;01min\u001b[39;00m model\u001b[38;5;241m.\u001b[39mlayers:\n\u001b[1;32m---> 54\u001b[0m     Y, inc_layer_grad \u001b[38;5;241m=\u001b[39m \u001b[43mlayer\u001b[49m\u001b[43m(\u001b[49m\u001b[43mX\u001b[49m\u001b[43m,\u001b[49m\u001b[43m \u001b[49m\u001b[43mis_train\u001b[49m\u001b[38;5;241;43m=\u001b[39;49m\u001b[43mis_train\u001b[49m\u001b[43m)\u001b[49m\n\u001b[0;32m     55\u001b[0m     callbacks\u001b[38;5;241m.\u001b[39mappend(inc_layer_grad)\n\u001b[0;32m     56\u001b[0m     X \u001b[38;5;241m=\u001b[39m Y\n",
      "File \u001b[1;32mc:\\Users\\guill\\anaconda3\\envs\\pytorchproject\\Lib\\site-packages\\thinc\\model.py:310\u001b[0m, in \u001b[0;36mModel.__call__\u001b[1;34m(self, X, is_train)\u001b[0m\n\u001b[0;32m    307\u001b[0m \u001b[38;5;28;01mdef\u001b[39;00m \u001b[38;5;21m__call__\u001b[39m(\u001b[38;5;28mself\u001b[39m, X: InT, is_train: \u001b[38;5;28mbool\u001b[39m) \u001b[38;5;241m-\u001b[39m\u001b[38;5;241m>\u001b[39m Tuple[OutT, Callable]:\n\u001b[0;32m    308\u001b[0m \u001b[38;5;250m    \u001b[39m\u001b[38;5;124;03m\"\"\"Call the model's `forward` function, returning the output and a\u001b[39;00m\n\u001b[0;32m    309\u001b[0m \u001b[38;5;124;03m    callback to compute the gradients via backpropagation.\"\"\"\u001b[39;00m\n\u001b[1;32m--> 310\u001b[0m     \u001b[38;5;28;01mreturn\u001b[39;00m \u001b[38;5;28;43mself\u001b[39;49m\u001b[38;5;241;43m.\u001b[39;49m\u001b[43m_func\u001b[49m\u001b[43m(\u001b[49m\u001b[38;5;28;43mself\u001b[39;49m\u001b[43m,\u001b[49m\u001b[43m \u001b[49m\u001b[43mX\u001b[49m\u001b[43m,\u001b[49m\u001b[43m \u001b[49m\u001b[43mis_train\u001b[49m\u001b[38;5;241;43m=\u001b[39;49m\u001b[43mis_train\u001b[49m\u001b[43m)\u001b[49m\n",
      "File \u001b[1;32mc:\\Users\\guill\\anaconda3\\envs\\pytorchproject\\Lib\\site-packages\\thinc\\layers\\chain.py:54\u001b[0m, in \u001b[0;36mforward\u001b[1;34m(model, X, is_train)\u001b[0m\n\u001b[0;32m     52\u001b[0m callbacks \u001b[38;5;241m=\u001b[39m []\n\u001b[0;32m     53\u001b[0m \u001b[38;5;28;01mfor\u001b[39;00m layer \u001b[38;5;129;01min\u001b[39;00m model\u001b[38;5;241m.\u001b[39mlayers:\n\u001b[1;32m---> 54\u001b[0m     Y, inc_layer_grad \u001b[38;5;241m=\u001b[39m \u001b[43mlayer\u001b[49m\u001b[43m(\u001b[49m\u001b[43mX\u001b[49m\u001b[43m,\u001b[49m\u001b[43m \u001b[49m\u001b[43mis_train\u001b[49m\u001b[38;5;241;43m=\u001b[39;49m\u001b[43mis_train\u001b[49m\u001b[43m)\u001b[49m\n\u001b[0;32m     55\u001b[0m     callbacks\u001b[38;5;241m.\u001b[39mappend(inc_layer_grad)\n\u001b[0;32m     56\u001b[0m     X \u001b[38;5;241m=\u001b[39m Y\n",
      "File \u001b[1;32mc:\\Users\\guill\\anaconda3\\envs\\pytorchproject\\Lib\\site-packages\\thinc\\model.py:310\u001b[0m, in \u001b[0;36mModel.__call__\u001b[1;34m(self, X, is_train)\u001b[0m\n\u001b[0;32m    307\u001b[0m \u001b[38;5;28;01mdef\u001b[39;00m \u001b[38;5;21m__call__\u001b[39m(\u001b[38;5;28mself\u001b[39m, X: InT, is_train: \u001b[38;5;28mbool\u001b[39m) \u001b[38;5;241m-\u001b[39m\u001b[38;5;241m>\u001b[39m Tuple[OutT, Callable]:\n\u001b[0;32m    308\u001b[0m \u001b[38;5;250m    \u001b[39m\u001b[38;5;124;03m\"\"\"Call the model's `forward` function, returning the output and a\u001b[39;00m\n\u001b[0;32m    309\u001b[0m \u001b[38;5;124;03m    callback to compute the gradients via backpropagation.\"\"\"\u001b[39;00m\n\u001b[1;32m--> 310\u001b[0m     \u001b[38;5;28;01mreturn\u001b[39;00m \u001b[38;5;28;43mself\u001b[39;49m\u001b[38;5;241;43m.\u001b[39;49m\u001b[43m_func\u001b[49m\u001b[43m(\u001b[49m\u001b[38;5;28;43mself\u001b[39;49m\u001b[43m,\u001b[49m\u001b[43m \u001b[49m\u001b[43mX\u001b[49m\u001b[43m,\u001b[49m\u001b[43m \u001b[49m\u001b[43mis_train\u001b[49m\u001b[38;5;241;43m=\u001b[39;49m\u001b[43mis_train\u001b[49m\u001b[43m)\u001b[49m\n",
      "File \u001b[1;32mc:\\Users\\guill\\anaconda3\\envs\\pytorchproject\\Lib\\site-packages\\thinc\\layers\\chain.py:54\u001b[0m, in \u001b[0;36mforward\u001b[1;34m(model, X, is_train)\u001b[0m\n\u001b[0;32m     52\u001b[0m callbacks \u001b[38;5;241m=\u001b[39m []\n\u001b[0;32m     53\u001b[0m \u001b[38;5;28;01mfor\u001b[39;00m layer \u001b[38;5;129;01min\u001b[39;00m model\u001b[38;5;241m.\u001b[39mlayers:\n\u001b[1;32m---> 54\u001b[0m     Y, inc_layer_grad \u001b[38;5;241m=\u001b[39m \u001b[43mlayer\u001b[49m\u001b[43m(\u001b[49m\u001b[43mX\u001b[49m\u001b[43m,\u001b[49m\u001b[43m \u001b[49m\u001b[43mis_train\u001b[49m\u001b[38;5;241;43m=\u001b[39;49m\u001b[43mis_train\u001b[49m\u001b[43m)\u001b[49m\n\u001b[0;32m     55\u001b[0m     callbacks\u001b[38;5;241m.\u001b[39mappend(inc_layer_grad)\n\u001b[0;32m     56\u001b[0m     X \u001b[38;5;241m=\u001b[39m Y\n",
      "File \u001b[1;32mc:\\Users\\guill\\anaconda3\\envs\\pytorchproject\\Lib\\site-packages\\thinc\\model.py:310\u001b[0m, in \u001b[0;36mModel.__call__\u001b[1;34m(self, X, is_train)\u001b[0m\n\u001b[0;32m    307\u001b[0m \u001b[38;5;28;01mdef\u001b[39;00m \u001b[38;5;21m__call__\u001b[39m(\u001b[38;5;28mself\u001b[39m, X: InT, is_train: \u001b[38;5;28mbool\u001b[39m) \u001b[38;5;241m-\u001b[39m\u001b[38;5;241m>\u001b[39m Tuple[OutT, Callable]:\n\u001b[0;32m    308\u001b[0m \u001b[38;5;250m    \u001b[39m\u001b[38;5;124;03m\"\"\"Call the model's `forward` function, returning the output and a\u001b[39;00m\n\u001b[0;32m    309\u001b[0m \u001b[38;5;124;03m    callback to compute the gradients via backpropagation.\"\"\"\u001b[39;00m\n\u001b[1;32m--> 310\u001b[0m     \u001b[38;5;28;01mreturn\u001b[39;00m \u001b[38;5;28;43mself\u001b[39;49m\u001b[38;5;241;43m.\u001b[39;49m\u001b[43m_func\u001b[49m\u001b[43m(\u001b[49m\u001b[38;5;28;43mself\u001b[39;49m\u001b[43m,\u001b[49m\u001b[43m \u001b[49m\u001b[43mX\u001b[49m\u001b[43m,\u001b[49m\u001b[43m \u001b[49m\u001b[43mis_train\u001b[49m\u001b[38;5;241;43m=\u001b[39;49m\u001b[43mis_train\u001b[49m\u001b[43m)\u001b[49m\n",
      "File \u001b[1;32mc:\\Users\\guill\\anaconda3\\envs\\pytorchproject\\Lib\\site-packages\\thinc\\layers\\list2ragged.py:25\u001b[0m, in \u001b[0;36mforward\u001b[1;34m(model, Xs, is_train)\u001b[0m\n\u001b[0;32m     22\u001b[0m     \u001b[38;5;28;01mreturn\u001b[39;00m cast(InT, model\u001b[38;5;241m.\u001b[39mops\u001b[38;5;241m.\u001b[39munflatten(dYr\u001b[38;5;241m.\u001b[39mdata, dYr\u001b[38;5;241m.\u001b[39mlengths))\n\u001b[0;32m     24\u001b[0m lengths \u001b[38;5;241m=\u001b[39m model\u001b[38;5;241m.\u001b[39mops\u001b[38;5;241m.\u001b[39masarray1i([\u001b[38;5;28mlen\u001b[39m(x) \u001b[38;5;28;01mfor\u001b[39;00m x \u001b[38;5;129;01min\u001b[39;00m Xs])\n\u001b[1;32m---> 25\u001b[0m \u001b[38;5;28;01mreturn\u001b[39;00m Ragged(\u001b[43mmodel\u001b[49m\u001b[38;5;241;43m.\u001b[39;49m\u001b[43mops\u001b[49m\u001b[38;5;241;43m.\u001b[39;49m\u001b[43mflatten\u001b[49m\u001b[43m(\u001b[49m\u001b[43mXs\u001b[49m\u001b[43m)\u001b[49m, lengths), backprop\n",
      "File \u001b[1;32mc:\\Users\\guill\\anaconda3\\envs\\pytorchproject\\Lib\\site-packages\\thinc\\backends\\ops.py:341\u001b[0m, in \u001b[0;36mOps.flatten\u001b[1;34m(self, X, dtype, pad, ndim_if_empty)\u001b[0m\n\u001b[0;32m    339\u001b[0m     padded\u001b[38;5;241m.\u001b[39mappend(xp\u001b[38;5;241m.\u001b[39mzeros((pad,) \u001b[38;5;241m+\u001b[39m x\u001b[38;5;241m.\u001b[39mshape[\u001b[38;5;241m1\u001b[39m:], dtype\u001b[38;5;241m=\u001b[39mx\u001b[38;5;241m.\u001b[39mdtype))\n\u001b[0;32m    340\u001b[0m     X \u001b[38;5;241m=\u001b[39m padded\n\u001b[1;32m--> 341\u001b[0m result \u001b[38;5;241m=\u001b[39m \u001b[43mxp\u001b[49m\u001b[38;5;241;43m.\u001b[39;49m\u001b[43mconcatenate\u001b[49m\u001b[43m(\u001b[49m\u001b[43mX\u001b[49m\u001b[43m)\u001b[49m\n\u001b[0;32m    342\u001b[0m \u001b[38;5;28;01mif\u001b[39;00m dtype \u001b[38;5;129;01mis\u001b[39;00m \u001b[38;5;129;01mnot\u001b[39;00m \u001b[38;5;28;01mNone\u001b[39;00m:\n\u001b[0;32m    343\u001b[0m     result \u001b[38;5;241m=\u001b[39m xp\u001b[38;5;241m.\u001b[39masarray(result, dtype\u001b[38;5;241m=\u001b[39mdtype)\n",
      "\u001b[1;31mKeyboardInterrupt\u001b[0m: "
     ]
    }
   ],
   "source": [
    "import re\n",
    "from nltk.tokenize import sent_tokenize\n",
    "\n",
    "def preprocess_text(text):\n",
    "\n",
    "    # Run spaCy lemmatization on cleaned text\n",
    "    doc = nlp(text)\n",
    "    tokens = [\n",
    "        token.lemma_.lower()\n",
    "        for token in doc\n",
    "        if token.is_alpha and not token.is_stop\n",
    "    ]\n",
    "    return \" \".join(tokens)\n",
    "\n",
    "# Apply preprocessing to all texts\n",
    "cleaned_lemmatized_texts = [preprocess_text(t) for t in enriched_articles]"
   ]
  },
  {
   "cell_type": "code",
   "execution_count": 17,
   "id": "5c4bd371-1542-4444-8d12-e756c1db1f41",
   "metadata": {},
   "outputs": [
    {
     "data": {
      "text/plain": [
       "'marque coréen assurer finalement corriger chose falloir déploiement être retarder reprise découverte bug problème corriger galaxy ultrer pouvoir profiter interface récent panne spotify application marche impossible écouter musique pann importance toucher spotify mercredi plateforme streaming impossible lancer utilisateur partout monde finalement heure pann musique reprendre connaître prix break électrique chinois recharger minute arriver bientôt europe zeekr marquer esprit présentation zeekr gt break électrique capable charger minute présent ignorer prix véhicule lancer connaître zeekr gt proposer chine partir yuan équivaloir euro savoir prix lancer break europe'"
      ]
     },
     "execution_count": 17,
     "metadata": {},
     "output_type": "execute_result"
    }
   ],
   "source": [
    "cleaned_lemmatized_texts[0]"
   ]
  },
  {
   "cell_type": "markdown",
   "id": "ef7a2f39-771d-429e-9ac1-51a445b4ca8c",
   "metadata": {},
   "source": [
    "**Tokenization** : Dividing text into words or sub-words. "
   ]
  },
  {
   "cell_type": "markdown",
   "id": "44ccee2d-e24c-47aa-ace0-5192588a1d13",
   "metadata": {},
   "source": [
    "```CamembertTokenizer``` and ```CamembertModel``` are the ideal choice for this project because they are specifically designed and pretrained for the French language, ensuring they effectively capture the unique linguistic nuances, grammar, and vocabulary inherent to French text. Unlike multilingual or English-centric models, ```CamemBERT``` provides contextual embeddings that accurately reflect the meaning and context of French sentences, which is critical for generating high-quality semantic representations. This precision enhances the performance of downstream tasks like topic modeling and clustering by enabling the model to distinguish subtle differences in meaning and usage, leading to more coherent and meaningful topic discovery within the French news dataset."
   ]
  },
  {
   "cell_type": "code",
   "execution_count": 18,
   "id": "1df0e383-6a16-4315-b989-7c6fee9b73f1",
   "metadata": {},
   "outputs": [],
   "source": [
    "# CamembertTokenizer splits raw French text into tokens (subword units) that the model understands.\n",
    "tokenizer = CamembertTokenizer.from_pretrained(\"camembert-base\")\n",
    "\n",
    "# CamembertModel is the pretrained transformer model for French, which outputs contextual embeddings for input tokens.\n",
    "model = CamembertModel.from_pretrained(\"camembert-base\")"
   ]
  },
  {
   "cell_type": "markdown",
   "id": "9f89335c-299b-4b28-bbef-0542d292c990",
   "metadata": {},
   "source": [
    "**Embedding** : Assigning each token a vector. \n",
    "\n",
    "The ```get_embedding``` function (below) takes a French text string as input, tokenizes it using ```CamembertTokenizer```, and passes the tokens through the pretrained CamembertModel to generate a contextual embedding. It extracts the embedding of the special [CLS] token, which serves as a fixed-size vector representation capturing the overall semantic meaning of the input text, ready for use in clustering or other downstream tasks."
   ]
  },
  {
   "cell_type": "code",
   "execution_count": 19,
   "id": "cae907dc-daaa-4ba2-9392-fa483f7ea3ba",
   "metadata": {},
   "outputs": [],
   "source": [
    "# This function generates a numerical embedding vector for a given text (article, in my case) using a pretrained transformer model. \n",
    "# It tokenizes the input text, feeds it through the model without computing gradients (in inference mode), and \n",
    "# returns the embedding of the special `[CLS]` token, which captures the overall semantic representation of the text.\n",
    "\n",
    "def get_embedding(text):\n",
    "    inputs = tokenizer(text, return_tensors=\"pt\", truncation=True, max_length=512)\n",
    "    with torch.no_grad():\n",
    "        outputs = model(**inputs)\n",
    "    return outputs.last_hidden_state[:,0,:].squeeze().numpy()"
   ]
  },
  {
   "cell_type": "markdown",
   "id": "5f3bcb0d-89d6-4372-be24-fd9d451c0fb3",
   "metadata": {},
   "source": [
    "The following process (embedding) takes a considerable amount of time ~ 5 - 10 minutes."
   ]
  },
  {
   "cell_type": "code",
   "execution_count": 20,
   "id": "c1801c35-5b40-4494-88ff-6365a5da19e7",
   "metadata": {},
   "outputs": [],
   "source": [
    "embeddings = [get_embedding(t) for t in cleaned_lemmatized_texts]"
   ]
  },
  {
   "cell_type": "markdown",
   "id": "e43061ff-8629-41e2-9ae6-0a53c7c44490",
   "metadata": {},
   "source": [
    "**Topic modelling using BERTopic** :\n",
    "\n",
    "*BERTopic is a powerful topic modeling technique that combines transformer-based embeddings with clustering algorithms to discover meaningful themes within large text corpora. By leveraging pre-trained language models, BERTopic captures rich semantic information beyond simple word frequency, enabling it to group documents based on contextual similarity. It then applies dimensionality reduction and density-based clustering to identify coherent topics, which are summarized with representative keywords. This approach results in interpretable and dynamic topic representations, making BERTopic especially effective for analyzing complex and diverse textual data.*"
   ]
  },
  {
   "cell_type": "code",
   "execution_count": 21,
   "id": "06d340be-3c92-420f-aa3d-4702aa7beac8",
   "metadata": {},
   "outputs": [
    {
     "name": "stdout",
     "output_type": "stream",
     "text": [
      "--- 131.14465165138245 seconds ---\n"
     ]
    }
   ],
   "source": [
    "import time\n",
    "start_time = time.time()\n",
    "topic_model = BERTopic()\n",
    "topics, probs = topic_model.fit_transform(cleaned_lemmatized_texts)\n",
    "print(\"--- %s seconds ---\" % (time.time() - start_time))"
   ]
  },
  {
   "cell_type": "code",
   "execution_count": 22,
   "id": "09dea9e4-f415-4113-86dc-622ae5736fac",
   "metadata": {},
   "outputs": [
    {
     "data": {
      "text/html": [
       "<div>\n",
       "<style scoped>\n",
       "    .dataframe tbody tr th:only-of-type {\n",
       "        vertical-align: middle;\n",
       "    }\n",
       "\n",
       "    .dataframe tbody tr th {\n",
       "        vertical-align: top;\n",
       "    }\n",
       "\n",
       "    .dataframe thead th {\n",
       "        text-align: right;\n",
       "    }\n",
       "</style>\n",
       "<table border=\"1\" class=\"dataframe\">\n",
       "  <thead>\n",
       "    <tr style=\"text-align: right;\">\n",
       "      <th></th>\n",
       "      <th>Topic</th>\n",
       "      <th>Count</th>\n",
       "      <th>Name</th>\n",
       "      <th>Representation</th>\n",
       "      <th>Representative_Docs</th>\n",
       "    </tr>\n",
       "  </thead>\n",
       "  <tbody>\n",
       "    <tr>\n",
       "      <th>0</th>\n",
       "      <td>-1</td>\n",
       "      <td>208</td>\n",
       "      <td>-1_tre_libre_bien_mai</td>\n",
       "      <td>[tre, libre, bien, mai, faire, entreprise, fra...</td>\n",
       "      <td>[publier mai mettre jour mai lir tard google a...</td>\n",
       "    </tr>\n",
       "    <tr>\n",
       "      <th>1</th>\n",
       "      <td>0</td>\n",
       "      <td>52</td>\n",
       "      <td>0_prix_point_aspirateur_robot</td>\n",
       "      <td>[prix, point, aspirateur, robot, plastique, bi...</td>\n",
       "      <td>[lancer deebot omni modèle évolué cuvée aspira...</td>\n",
       "    </tr>\n",
       "    <tr>\n",
       "      <th>2</th>\n",
       "      <td>1</td>\n",
       "      <td>52</td>\n",
       "      <td>1_film_rinaldi_tre_festival</td>\n",
       "      <td>[film, rinaldi, tre, festival, histoire, anne,...</td>\n",
       "      <td>[temps lecture minute saviez festival cannes p...</td>\n",
       "    </tr>\n",
       "    <tr>\n",
       "      <th>3</th>\n",
       "      <td>2</td>\n",
       "      <td>43</td>\n",
       "      <td>2_galaxy_samsung_smartphone_huawei</td>\n",
       "      <td>[galaxy, samsung, smartphone, huawei, fi, wi, ...</td>\n",
       "      <td>[test huawei watch montre design moderne taill...</td>\n",
       "    </tr>\n",
       "    <tr>\n",
       "      <th>4</th>\n",
       "      <td>3</td>\n",
       "      <td>28</td>\n",
       "      <td>3_trump_revenu_impt_social</td>\n",
       "      <td>[trump, revenu, impt, social, donald, fiscal, ...</td>\n",
       "      <td>[signal confus chine clairement cible principa...</td>\n",
       "    </tr>\n",
       "  </tbody>\n",
       "</table>\n",
       "</div>"
      ],
      "text/plain": [
       "   Topic  Count                                Name  \\\n",
       "0     -1    208               -1_tre_libre_bien_mai   \n",
       "1      0     52       0_prix_point_aspirateur_robot   \n",
       "2      1     52         1_film_rinaldi_tre_festival   \n",
       "3      2     43  2_galaxy_samsung_smartphone_huawei   \n",
       "4      3     28          3_trump_revenu_impt_social   \n",
       "\n",
       "                                      Representation  \\\n",
       "0  [tre, libre, bien, mai, faire, entreprise, fra...   \n",
       "1  [prix, point, aspirateur, robot, plastique, bi...   \n",
       "2  [film, rinaldi, tre, festival, histoire, anne,...   \n",
       "3  [galaxy, samsung, smartphone, huawei, fi, wi, ...   \n",
       "4  [trump, revenu, impt, social, donald, fiscal, ...   \n",
       "\n",
       "                                 Representative_Docs  \n",
       "0  [publier mai mettre jour mai lir tard google a...  \n",
       "1  [lancer deebot omni modèle évolué cuvée aspira...  \n",
       "2  [temps lecture minute saviez festival cannes p...  \n",
       "3  [test huawei watch montre design moderne taill...  \n",
       "4  [signal confus chine clairement cible principa...  "
      ]
     },
     "execution_count": 22,
     "metadata": {},
     "output_type": "execute_result"
    }
   ],
   "source": [
    "topic_model.get_topic_info().head()"
   ]
  },
  {
   "cell_type": "code",
   "execution_count": 149,
   "id": "f4b491d4-a477-44cd-9265-96af7ffa917e",
   "metadata": {},
   "outputs": [],
   "source": [
    "# Generate labels\n",
    "topic_labels = {\n",
    "    0: \"Smartphones & Tech Gadgets\",\n",
    "    1: \"Cinema & Culture\",\n",
    "    2: \"Home Appliances\",\n",
    "    3: \"Consumer Electronics\",\n",
    "    4: \"Economy & Finance\",\n",
    "    5: \"US Politics & Society\",\n",
    "    6: \"French Right-Wing Politics\",\n",
    "    7: \"Financial Scams & Social Issues\",\n",
    "    8: \"Computer Hardware & GPUs\",\n",
    "    9: \"Environment & Food\",\n",
    "    10: \"Middle East Politics\"\n",
    "}\n",
    "topic_model.set_topic_labels(topic_labels)"
   ]
  },
  {
   "cell_type": "code",
   "execution_count": 184,
   "id": "7fee6b66-7bca-441e-9518-698896db7b0b",
   "metadata": {},
   "outputs": [
    {
     "data": {
      "text/html": [
       "<div>\n",
       "<style scoped>\n",
       "    .dataframe tbody tr th:only-of-type {\n",
       "        vertical-align: middle;\n",
       "    }\n",
       "\n",
       "    .dataframe tbody tr th {\n",
       "        vertical-align: top;\n",
       "    }\n",
       "\n",
       "    .dataframe thead th {\n",
       "        text-align: right;\n",
       "    }\n",
       "</style>\n",
       "<table border=\"1\" class=\"dataframe\">\n",
       "  <thead>\n",
       "    <tr style=\"text-align: right;\">\n",
       "      <th></th>\n",
       "      <th>Topic</th>\n",
       "      <th>Count</th>\n",
       "      <th>Name</th>\n",
       "      <th>CustomName</th>\n",
       "      <th>Representation</th>\n",
       "      <th>Representative_Docs</th>\n",
       "    </tr>\n",
       "  </thead>\n",
       "  <tbody>\n",
       "    <tr>\n",
       "      <th>0</th>\n",
       "      <td>-1</td>\n",
       "      <td>197</td>\n",
       "      <td>-1_tre_libre_bien_entreprise</td>\n",
       "      <td>tre - libre - bien</td>\n",
       "      <td>[tre, libre, bien, entreprise, faire, mai, pou...</td>\n",
       "      <td>[fois julie entendre culture entreprise venir ...</td>\n",
       "    </tr>\n",
       "    <tr>\n",
       "      <th>1</th>\n",
       "      <td>0</td>\n",
       "      <td>54</td>\n",
       "      <td>0_galaxy_samsung_smartphone_fi</td>\n",
       "      <td>Smartphones &amp; Tech Gadgets</td>\n",
       "      <td>[galaxy, samsung, smartphone, fi, wi, huawei, ...</td>\n",
       "      <td>[batterie silicium optimisation ia iphon air a...</td>\n",
       "    </tr>\n",
       "    <tr>\n",
       "      <th>2</th>\n",
       "      <td>1</td>\n",
       "      <td>52</td>\n",
       "      <td>1_film_rinaldi_tre_festival</td>\n",
       "      <td>Cinema &amp; Culture</td>\n",
       "      <td>[film, rinaldi, tre, festival, anne, histoire,...</td>\n",
       "      <td>[temps lecture minute saviez festival cannes p...</td>\n",
       "    </tr>\n",
       "    <tr>\n",
       "      <th>3</th>\n",
       "      <td>2</td>\n",
       "      <td>49</td>\n",
       "      <td>2_prix_point_aspirateur_robot</td>\n",
       "      <td>Home Appliances</td>\n",
       "      <td>[prix, point, aspirateur, robot, plastique, sy...</td>\n",
       "      <td>[lancer deebot omni modèle évolué cuvée aspira...</td>\n",
       "    </tr>\n",
       "    <tr>\n",
       "      <th>4</th>\n",
       "      <td>3</td>\n",
       "      <td>29</td>\n",
       "      <td>3_point_prix_qualit_exemple</td>\n",
       "      <td>Consumer Electronics</td>\n",
       "      <td>[point, prix, qualit, exemple, chien, shot, im...</td>\n",
       "      <td>[arrivée fleuron sony perturbe inévitablemer h...</td>\n",
       "    </tr>\n",
       "  </tbody>\n",
       "</table>\n",
       "</div>"
      ],
      "text/plain": [
       "   Topic  Count                            Name                  CustomName  \\\n",
       "0     -1    197    -1_tre_libre_bien_entreprise          tre - libre - bien   \n",
       "1      0     54  0_galaxy_samsung_smartphone_fi  Smartphones & Tech Gadgets   \n",
       "2      1     52     1_film_rinaldi_tre_festival            Cinema & Culture   \n",
       "3      2     49   2_prix_point_aspirateur_robot             Home Appliances   \n",
       "4      3     29     3_point_prix_qualit_exemple        Consumer Electronics   \n",
       "\n",
       "                                      Representation  \\\n",
       "0  [tre, libre, bien, entreprise, faire, mai, pou...   \n",
       "1  [galaxy, samsung, smartphone, fi, wi, huawei, ...   \n",
       "2  [film, rinaldi, tre, festival, anne, histoire,...   \n",
       "3  [prix, point, aspirateur, robot, plastique, sy...   \n",
       "4  [point, prix, qualit, exemple, chien, shot, im...   \n",
       "\n",
       "                                 Representative_Docs  \n",
       "0  [fois julie entendre culture entreprise venir ...  \n",
       "1  [batterie silicium optimisation ia iphon air a...  \n",
       "2  [temps lecture minute saviez festival cannes p...  \n",
       "3  [lancer deebot omni modèle évolué cuvée aspira...  \n",
       "4  [arrivée fleuron sony perturbe inévitablemer h...  "
      ]
     },
     "execution_count": 184,
     "metadata": {},
     "output_type": "execute_result"
    }
   ],
   "source": [
    "topic_model.get_topic_info().head()"
   ]
  },
  {
   "cell_type": "code",
   "execution_count": 183,
   "id": "c0c9d393-5926-4178-a024-81d045df199e",
   "metadata": {},
   "outputs": [
    {
     "data": {
      "text/html": [
       "<div>            <script src=\"https://cdnjs.cloudflare.com/ajax/libs/mathjax/2.7.5/MathJax.js?config=TeX-AMS-MML_SVG\"></script><script type=\"text/javascript\">if (window.MathJax && window.MathJax.Hub && window.MathJax.Hub.Config) {window.MathJax.Hub.Config({SVG: {font: \"STIX-Web\"}});}</script>                    <div id=\"7f59d35e-5fbf-4f88-9b15-027c283e7dbc\" class=\"plotly-graph-div\" style=\"height:500px; width:1000px;\"></div>            <script type=\"text/javascript\">                window.PLOTLYENV=window.PLOTLYENV || {};                                if (document.getElementById(\"7f59d35e-5fbf-4f88-9b15-027c283e7dbc\")) {                    Plotly.newPlot(                        \"7f59d35e-5fbf-4f88-9b15-027c283e7dbc\",                        [{\"marker\":{\"color\":\"#D55E00\"},\"orientation\":\"h\",\"x\":[0.027909675625231344,0.02808532319331536,0.03126247173502764,0.0442858176656414,0.04950635713005782],\"y\":[\"wi  \",\"fi  \",\"smartphone  \",\"samsung  \",\"galaxy  \"],\"type\":\"bar\",\"xaxis\":\"x\",\"yaxis\":\"y\"},{\"marker\":{\"color\":\"#0072B2\"},\"orientation\":\"h\",\"x\":[0.014593642711750435,0.016057792106329113,0.020078028526157907,0.02566398811880248,0.03154486996173228],\"y\":[\"anne  \",\"festival  \",\"tre  \",\"rinaldi  \",\"film  \"],\"type\":\"bar\",\"xaxis\":\"x2\",\"yaxis\":\"y2\"},{\"marker\":{\"color\":\"#CC79A7\"},\"orientation\":\"h\",\"x\":[0.01919110358750566,0.020153511927045637,0.022789435510162968,0.02308225195178657,0.03056358994215262],\"y\":[\"plastique  \",\"robot  \",\"aspirateur  \",\"point  \",\"prix  \"],\"type\":\"bar\",\"xaxis\":\"x3\",\"yaxis\":\"y3\"},{\"marker\":{\"color\":\"#E69F00\"},\"orientation\":\"h\",\"x\":[0.02603829804733922,0.026582917609215235,0.02818165937032261,0.03085000208608566,0.034468324204933336],\"y\":[\"chien  \",\"exemple  \",\"qualit  \",\"prix  \",\"point  \"],\"type\":\"bar\",\"xaxis\":\"x4\",\"yaxis\":\"y4\"},{\"marker\":{\"color\":\"#56B4E9\"},\"orientation\":\"h\",\"x\":[0.026715081470530148,0.03323027636583581,0.03939029215569111,0.04194686029912351,0.051330975262305165],\"y\":[\"europen  \",\"investissement  \",\"milliard  \",\"france  \",\"euro  \"],\"type\":\"bar\",\"xaxis\":\"x5\",\"yaxis\":\"y5\"},{\"marker\":{\"color\":\"#009E73\"},\"orientation\":\"h\",\"x\":[0.02257999846093929,0.023914851898006233,0.024537456801672283,0.031313902477149554,0.03786225603309984],\"y\":[\"donald  \",\"social  \",\"impt  \",\"revenu  \",\"trump  \"],\"type\":\"bar\",\"xaxis\":\"x6\",\"yaxis\":\"y6\"},{\"marker\":{\"color\":\"#F0E442\"},\"orientation\":\"h\",\"x\":[0.041460967991618,0.04163478935391851,0.0489821492366139,0.04985245243789179,0.05027714684403062],\"y\":[\"droite  \",\"lr  \",\"retailleau  \",\"tat  \",\"bruno  \"],\"type\":\"bar\",\"xaxis\":\"x7\",\"yaxis\":\"y7\"},{\"marker\":{\"color\":\"#D55E00\"},\"orientation\":\"h\",\"x\":[0.02044158141239478,0.021543791954366422,0.022970532643095967,0.02802377221427651,0.028693132544397794],\"y\":[\"compte  \",\"donne  \",\"tre  \",\"recherche  \",\"valuation  \"],\"type\":\"bar\",\"xaxis\":\"x8\",\"yaxis\":\"y8\"}],                        {\"template\":{\"data\":{\"barpolar\":[{\"marker\":{\"line\":{\"color\":\"white\",\"width\":0.5},\"pattern\":{\"fillmode\":\"overlay\",\"size\":10,\"solidity\":0.2}},\"type\":\"barpolar\"}],\"bar\":[{\"error_x\":{\"color\":\"#2a3f5f\"},\"error_y\":{\"color\":\"#2a3f5f\"},\"marker\":{\"line\":{\"color\":\"white\",\"width\":0.5},\"pattern\":{\"fillmode\":\"overlay\",\"size\":10,\"solidity\":0.2}},\"type\":\"bar\"}],\"carpet\":[{\"aaxis\":{\"endlinecolor\":\"#2a3f5f\",\"gridcolor\":\"#C8D4E3\",\"linecolor\":\"#C8D4E3\",\"minorgridcolor\":\"#C8D4E3\",\"startlinecolor\":\"#2a3f5f\"},\"baxis\":{\"endlinecolor\":\"#2a3f5f\",\"gridcolor\":\"#C8D4E3\",\"linecolor\":\"#C8D4E3\",\"minorgridcolor\":\"#C8D4E3\",\"startlinecolor\":\"#2a3f5f\"},\"type\":\"carpet\"}],\"choropleth\":[{\"colorbar\":{\"outlinewidth\":0,\"ticks\":\"\"},\"type\":\"choropleth\"}],\"contourcarpet\":[{\"colorbar\":{\"outlinewidth\":0,\"ticks\":\"\"},\"type\":\"contourcarpet\"}],\"contour\":[{\"colorbar\":{\"outlinewidth\":0,\"ticks\":\"\"},\"colorscale\":[[0.0,\"#0d0887\"],[0.1111111111111111,\"#46039f\"],[0.2222222222222222,\"#7201a8\"],[0.3333333333333333,\"#9c179e\"],[0.4444444444444444,\"#bd3786\"],[0.5555555555555556,\"#d8576b\"],[0.6666666666666666,\"#ed7953\"],[0.7777777777777778,\"#fb9f3a\"],[0.8888888888888888,\"#fdca26\"],[1.0,\"#f0f921\"]],\"type\":\"contour\"}],\"heatmap\":[{\"colorbar\":{\"outlinewidth\":0,\"ticks\":\"\"},\"colorscale\":[[0.0,\"#0d0887\"],[0.1111111111111111,\"#46039f\"],[0.2222222222222222,\"#7201a8\"],[0.3333333333333333,\"#9c179e\"],[0.4444444444444444,\"#bd3786\"],[0.5555555555555556,\"#d8576b\"],[0.6666666666666666,\"#ed7953\"],[0.7777777777777778,\"#fb9f3a\"],[0.8888888888888888,\"#fdca26\"],[1.0,\"#f0f921\"]],\"type\":\"heatmap\"}],\"histogram2dcontour\":[{\"colorbar\":{\"outlinewidth\":0,\"ticks\":\"\"},\"colorscale\":[[0.0,\"#0d0887\"],[0.1111111111111111,\"#46039f\"],[0.2222222222222222,\"#7201a8\"],[0.3333333333333333,\"#9c179e\"],[0.4444444444444444,\"#bd3786\"],[0.5555555555555556,\"#d8576b\"],[0.6666666666666666,\"#ed7953\"],[0.7777777777777778,\"#fb9f3a\"],[0.8888888888888888,\"#fdca26\"],[1.0,\"#f0f921\"]],\"type\":\"histogram2dcontour\"}],\"histogram2d\":[{\"colorbar\":{\"outlinewidth\":0,\"ticks\":\"\"},\"colorscale\":[[0.0,\"#0d0887\"],[0.1111111111111111,\"#46039f\"],[0.2222222222222222,\"#7201a8\"],[0.3333333333333333,\"#9c179e\"],[0.4444444444444444,\"#bd3786\"],[0.5555555555555556,\"#d8576b\"],[0.6666666666666666,\"#ed7953\"],[0.7777777777777778,\"#fb9f3a\"],[0.8888888888888888,\"#fdca26\"],[1.0,\"#f0f921\"]],\"type\":\"histogram2d\"}],\"histogram\":[{\"marker\":{\"pattern\":{\"fillmode\":\"overlay\",\"size\":10,\"solidity\":0.2}},\"type\":\"histogram\"}],\"mesh3d\":[{\"colorbar\":{\"outlinewidth\":0,\"ticks\":\"\"},\"type\":\"mesh3d\"}],\"parcoords\":[{\"line\":{\"colorbar\":{\"outlinewidth\":0,\"ticks\":\"\"}},\"type\":\"parcoords\"}],\"pie\":[{\"automargin\":true,\"type\":\"pie\"}],\"scatter3d\":[{\"line\":{\"colorbar\":{\"outlinewidth\":0,\"ticks\":\"\"}},\"marker\":{\"colorbar\":{\"outlinewidth\":0,\"ticks\":\"\"}},\"type\":\"scatter3d\"}],\"scattercarpet\":[{\"marker\":{\"colorbar\":{\"outlinewidth\":0,\"ticks\":\"\"}},\"type\":\"scattercarpet\"}],\"scattergeo\":[{\"marker\":{\"colorbar\":{\"outlinewidth\":0,\"ticks\":\"\"}},\"type\":\"scattergeo\"}],\"scattergl\":[{\"marker\":{\"colorbar\":{\"outlinewidth\":0,\"ticks\":\"\"}},\"type\":\"scattergl\"}],\"scattermapbox\":[{\"marker\":{\"colorbar\":{\"outlinewidth\":0,\"ticks\":\"\"}},\"type\":\"scattermapbox\"}],\"scattermap\":[{\"marker\":{\"colorbar\":{\"outlinewidth\":0,\"ticks\":\"\"}},\"type\":\"scattermap\"}],\"scatterpolargl\":[{\"marker\":{\"colorbar\":{\"outlinewidth\":0,\"ticks\":\"\"}},\"type\":\"scatterpolargl\"}],\"scatterpolar\":[{\"marker\":{\"colorbar\":{\"outlinewidth\":0,\"ticks\":\"\"}},\"type\":\"scatterpolar\"}],\"scatter\":[{\"fillpattern\":{\"fillmode\":\"overlay\",\"size\":10,\"solidity\":0.2},\"type\":\"scatter\"}],\"scatterternary\":[{\"marker\":{\"colorbar\":{\"outlinewidth\":0,\"ticks\":\"\"}},\"type\":\"scatterternary\"}],\"surface\":[{\"colorbar\":{\"outlinewidth\":0,\"ticks\":\"\"},\"colorscale\":[[0.0,\"#0d0887\"],[0.1111111111111111,\"#46039f\"],[0.2222222222222222,\"#7201a8\"],[0.3333333333333333,\"#9c179e\"],[0.4444444444444444,\"#bd3786\"],[0.5555555555555556,\"#d8576b\"],[0.6666666666666666,\"#ed7953\"],[0.7777777777777778,\"#fb9f3a\"],[0.8888888888888888,\"#fdca26\"],[1.0,\"#f0f921\"]],\"type\":\"surface\"}],\"table\":[{\"cells\":{\"fill\":{\"color\":\"#EBF0F8\"},\"line\":{\"color\":\"white\"}},\"header\":{\"fill\":{\"color\":\"#C8D4E3\"},\"line\":{\"color\":\"white\"}},\"type\":\"table\"}]},\"layout\":{\"annotationdefaults\":{\"arrowcolor\":\"#2a3f5f\",\"arrowhead\":0,\"arrowwidth\":1},\"autotypenumbers\":\"strict\",\"coloraxis\":{\"colorbar\":{\"outlinewidth\":0,\"ticks\":\"\"}},\"colorscale\":{\"diverging\":[[0,\"#8e0152\"],[0.1,\"#c51b7d\"],[0.2,\"#de77ae\"],[0.3,\"#f1b6da\"],[0.4,\"#fde0ef\"],[0.5,\"#f7f7f7\"],[0.6,\"#e6f5d0\"],[0.7,\"#b8e186\"],[0.8,\"#7fbc41\"],[0.9,\"#4d9221\"],[1,\"#276419\"]],\"sequential\":[[0.0,\"#0d0887\"],[0.1111111111111111,\"#46039f\"],[0.2222222222222222,\"#7201a8\"],[0.3333333333333333,\"#9c179e\"],[0.4444444444444444,\"#bd3786\"],[0.5555555555555556,\"#d8576b\"],[0.6666666666666666,\"#ed7953\"],[0.7777777777777778,\"#fb9f3a\"],[0.8888888888888888,\"#fdca26\"],[1.0,\"#f0f921\"]],\"sequentialminus\":[[0.0,\"#0d0887\"],[0.1111111111111111,\"#46039f\"],[0.2222222222222222,\"#7201a8\"],[0.3333333333333333,\"#9c179e\"],[0.4444444444444444,\"#bd3786\"],[0.5555555555555556,\"#d8576b\"],[0.6666666666666666,\"#ed7953\"],[0.7777777777777778,\"#fb9f3a\"],[0.8888888888888888,\"#fdca26\"],[1.0,\"#f0f921\"]]},\"colorway\":[\"#636efa\",\"#EF553B\",\"#00cc96\",\"#ab63fa\",\"#FFA15A\",\"#19d3f3\",\"#FF6692\",\"#B6E880\",\"#FF97FF\",\"#FECB52\"],\"font\":{\"color\":\"#2a3f5f\"},\"geo\":{\"bgcolor\":\"white\",\"lakecolor\":\"white\",\"landcolor\":\"white\",\"showlakes\":true,\"showland\":true,\"subunitcolor\":\"#C8D4E3\"},\"hoverlabel\":{\"align\":\"left\"},\"hovermode\":\"closest\",\"mapbox\":{\"style\":\"light\"},\"paper_bgcolor\":\"white\",\"plot_bgcolor\":\"white\",\"polar\":{\"angularaxis\":{\"gridcolor\":\"#EBF0F8\",\"linecolor\":\"#EBF0F8\",\"ticks\":\"\"},\"bgcolor\":\"white\",\"radialaxis\":{\"gridcolor\":\"#EBF0F8\",\"linecolor\":\"#EBF0F8\",\"ticks\":\"\"}},\"scene\":{\"xaxis\":{\"backgroundcolor\":\"white\",\"gridcolor\":\"#DFE8F3\",\"gridwidth\":2,\"linecolor\":\"#EBF0F8\",\"showbackground\":true,\"ticks\":\"\",\"zerolinecolor\":\"#EBF0F8\"},\"yaxis\":{\"backgroundcolor\":\"white\",\"gridcolor\":\"#DFE8F3\",\"gridwidth\":2,\"linecolor\":\"#EBF0F8\",\"showbackground\":true,\"ticks\":\"\",\"zerolinecolor\":\"#EBF0F8\"},\"zaxis\":{\"backgroundcolor\":\"white\",\"gridcolor\":\"#DFE8F3\",\"gridwidth\":2,\"linecolor\":\"#EBF0F8\",\"showbackground\":true,\"ticks\":\"\",\"zerolinecolor\":\"#EBF0F8\"}},\"shapedefaults\":{\"line\":{\"color\":\"#2a3f5f\"}},\"ternary\":{\"aaxis\":{\"gridcolor\":\"#DFE8F3\",\"linecolor\":\"#A2B1C6\",\"ticks\":\"\"},\"baxis\":{\"gridcolor\":\"#DFE8F3\",\"linecolor\":\"#A2B1C6\",\"ticks\":\"\"},\"bgcolor\":\"white\",\"caxis\":{\"gridcolor\":\"#DFE8F3\",\"linecolor\":\"#A2B1C6\",\"ticks\":\"\"}},\"title\":{\"x\":0.05},\"xaxis\":{\"automargin\":true,\"gridcolor\":\"#EBF0F8\",\"linecolor\":\"#EBF0F8\",\"ticks\":\"\",\"title\":{\"standoff\":15},\"zerolinecolor\":\"#EBF0F8\",\"zerolinewidth\":2},\"yaxis\":{\"automargin\":true,\"gridcolor\":\"#EBF0F8\",\"linecolor\":\"#EBF0F8\",\"ticks\":\"\",\"title\":{\"standoff\":15},\"zerolinecolor\":\"#EBF0F8\",\"zerolinewidth\":2}}},\"xaxis\":{\"anchor\":\"y\",\"domain\":[0.0,0.175],\"showgrid\":true},\"yaxis\":{\"anchor\":\"x\",\"domain\":[0.6000000000000001,1.0],\"showgrid\":true},\"xaxis2\":{\"anchor\":\"y2\",\"domain\":[0.275,0.45],\"showgrid\":true},\"yaxis2\":{\"anchor\":\"x2\",\"domain\":[0.6000000000000001,1.0],\"showgrid\":true},\"xaxis3\":{\"anchor\":\"y3\",\"domain\":[0.55,0.7250000000000001],\"showgrid\":true},\"yaxis3\":{\"anchor\":\"x3\",\"domain\":[0.6000000000000001,1.0],\"showgrid\":true},\"xaxis4\":{\"anchor\":\"y4\",\"domain\":[0.825,1.0],\"showgrid\":true},\"yaxis4\":{\"anchor\":\"x4\",\"domain\":[0.6000000000000001,1.0],\"showgrid\":true},\"xaxis5\":{\"anchor\":\"y5\",\"domain\":[0.0,0.175],\"showgrid\":true},\"yaxis5\":{\"anchor\":\"x5\",\"domain\":[0.0,0.4],\"showgrid\":true},\"xaxis6\":{\"anchor\":\"y6\",\"domain\":[0.275,0.45],\"showgrid\":true},\"yaxis6\":{\"anchor\":\"x6\",\"domain\":[0.0,0.4],\"showgrid\":true},\"xaxis7\":{\"anchor\":\"y7\",\"domain\":[0.55,0.7250000000000001],\"showgrid\":true},\"yaxis7\":{\"anchor\":\"x7\",\"domain\":[0.0,0.4],\"showgrid\":true},\"xaxis8\":{\"anchor\":\"y8\",\"domain\":[0.825,1.0],\"showgrid\":true},\"yaxis8\":{\"anchor\":\"x8\",\"domain\":[0.0,0.4],\"showgrid\":true},\"annotations\":[{\"font\":{\"size\":16},\"showarrow\":false,\"text\":\"Topic 0\",\"x\":0.0875,\"xanchor\":\"center\",\"xref\":\"paper\",\"y\":1.0,\"yanchor\":\"bottom\",\"yref\":\"paper\"},{\"font\":{\"size\":16},\"showarrow\":false,\"text\":\"Topic 1\",\"x\":0.36250000000000004,\"xanchor\":\"center\",\"xref\":\"paper\",\"y\":1.0,\"yanchor\":\"bottom\",\"yref\":\"paper\"},{\"font\":{\"size\":16},\"showarrow\":false,\"text\":\"Topic 2\",\"x\":0.6375000000000001,\"xanchor\":\"center\",\"xref\":\"paper\",\"y\":1.0,\"yanchor\":\"bottom\",\"yref\":\"paper\"},{\"font\":{\"size\":16},\"showarrow\":false,\"text\":\"Topic 3\",\"x\":0.9125,\"xanchor\":\"center\",\"xref\":\"paper\",\"y\":1.0,\"yanchor\":\"bottom\",\"yref\":\"paper\"},{\"font\":{\"size\":16},\"showarrow\":false,\"text\":\"Topic 4\",\"x\":0.0875,\"xanchor\":\"center\",\"xref\":\"paper\",\"y\":0.4,\"yanchor\":\"bottom\",\"yref\":\"paper\"},{\"font\":{\"size\":16},\"showarrow\":false,\"text\":\"Topic 5\",\"x\":0.36250000000000004,\"xanchor\":\"center\",\"xref\":\"paper\",\"y\":0.4,\"yanchor\":\"bottom\",\"yref\":\"paper\"},{\"font\":{\"size\":16},\"showarrow\":false,\"text\":\"Topic 6\",\"x\":0.6375000000000001,\"xanchor\":\"center\",\"xref\":\"paper\",\"y\":0.4,\"yanchor\":\"bottom\",\"yref\":\"paper\"},{\"font\":{\"size\":16},\"showarrow\":false,\"text\":\"Topic 7\",\"x\":0.9125,\"xanchor\":\"center\",\"xref\":\"paper\",\"y\":0.4,\"yanchor\":\"bottom\",\"yref\":\"paper\"}],\"title\":{\"font\":{\"size\":22,\"color\":\"Black\"},\"text\":\"Topic Word Scores\",\"x\":0.5,\"xanchor\":\"center\",\"yanchor\":\"top\"},\"hoverlabel\":{\"font\":{\"size\":16,\"family\":\"Rockwell\"},\"bgcolor\":\"white\"},\"showlegend\":false,\"width\":1000,\"height\":500},                        {\"responsive\": true}                    ).then(function(){\n",
       "                            \n",
       "var gd = document.getElementById('7f59d35e-5fbf-4f88-9b15-027c283e7dbc');\n",
       "var x = new MutationObserver(function (mutations, observer) {{\n",
       "        var display = window.getComputedStyle(gd).display;\n",
       "        if (!display || display === 'none') {{\n",
       "            console.log([gd, 'removed!']);\n",
       "            Plotly.purge(gd);\n",
       "            observer.disconnect();\n",
       "        }}\n",
       "}});\n",
       "\n",
       "// Listen for the removal of the full notebook cells\n",
       "var notebookContainer = gd.closest('#notebook-container');\n",
       "if (notebookContainer) {{\n",
       "    x.observe(notebookContainer, {childList: true});\n",
       "}}\n",
       "\n",
       "// Listen for the clearing of the current output cell\n",
       "var outputEl = gd.closest('.output');\n",
       "if (outputEl) {{\n",
       "    x.observe(outputEl, {childList: true});\n",
       "}}\n",
       "\n",
       "                        })                };            </script>        </div>"
      ]
     },
     "metadata": {},
     "output_type": "display_data"
    }
   ],
   "source": [
    "topic_model.visualize_barchart()"
   ]
  },
  {
   "cell_type": "code",
   "execution_count": 7,
   "id": "ec72cb7d-d937-4a97-88f4-24ea5fd82329",
   "metadata": {},
   "outputs": [
    {
     "ename": "NameError",
     "evalue": "name 'topic_model' is not defined",
     "output_type": "error",
     "traceback": [
      "\u001b[1;31m---------------------------------------------------------------------------\u001b[0m",
      "\u001b[1;31mNameError\u001b[0m                                 Traceback (most recent call last)",
      "Cell \u001b[1;32mIn[7], line 1\u001b[0m\n\u001b[1;32m----> 1\u001b[0m \u001b[43mtopic_model\u001b[49m\u001b[38;5;241m.\u001b[39mvisualize_heatmap(custom_labels\u001b[38;5;241m=\u001b[39m\u001b[38;5;28;01mTrue\u001b[39;00m)\n",
      "\u001b[1;31mNameError\u001b[0m: name 'topic_model' is not defined"
     ]
    }
   ],
   "source": [
    "topic_model.visualize_heatmap(custom_labels=True)"
   ]
  },
  {
   "cell_type": "code",
   "execution_count": 124,
   "id": "76ff2b6f-7f32-4573-99b2-e120caec1fc5",
   "metadata": {},
   "outputs": [],
   "source": [
    "reducer = umap.UMAP(\n",
    "    n_neighbors=5,\n",
    "    min_dist=0.0,\n",
    "    metric='cosine',\n",
    "    random_state=42\n",
    ")\n",
    "\n",
    "embeddings_2d = reducer.fit_transform(embeddings)\n",
    "embeddings_2d_array = np.array(embeddings_2d)\n",
    "embeddings_array = np.array(embeddings)"
   ]
  },
  {
   "cell_type": "code",
   "execution_count": 128,
   "id": "f26840fc-2c02-430f-88d9-c421d265908c",
   "metadata": {},
   "outputs": [
    {
     "name": "stdout",
     "output_type": "stream",
     "text": [
      "Docs: 525\n",
      "Embeddings shape: (525, 768)\n",
      "2D embeddings shape: (525, 2)\n",
      "Topics length: 525\n"
     ]
    }
   ],
   "source": [
    "print(\"Docs:\", len(cleaned_lemmatized_texts))\n",
    "print(\"Embeddings shape:\", embeddings_array.shape)\n",
    "print(\"2D embeddings shape:\", embeddings_2d_array.shape)\n",
    "print(\"Topics length:\", len(topics))\n"
   ]
  },
  {
   "cell_type": "code",
   "execution_count": 140,
   "id": "215ac885-ce2a-41f8-987f-54b7235e8107",
   "metadata": {},
   "outputs": [
    {
     "data": {
      "text/plain": [
       "['tre - libre - bien',\n",
       " 'galaxy - samsung - smartphone',\n",
       " 'film - rinaldi - tre',\n",
       " 'prix - point - aspirateur',\n",
       " 'point - prix - qualit',\n",
       " 'euro - france - milliard',\n",
       " 'trump - revenu - impt',\n",
       " 'bruno - tat - retailleau',\n",
       " 'valuation - recherche - tre',\n",
       " 'neuf - rt - geforce',\n",
       " 'eau - animal - fromage',\n",
       " 'gaza - immigration - isralien']"
      ]
     },
     "execution_count": 140,
     "metadata": {},
     "output_type": "execute_result"
    }
   ],
   "source": [
    "topic_labels"
   ]
  },
  {
   "cell_type": "code",
   "execution_count": 155,
   "id": "4d81e0e3-131b-4add-bf07-9b05a21b208f",
   "metadata": {},
   "outputs": [
    {
     "data": {
      "image/png": "[encoded data removed]",
      "text/plain": [
       "<Figure size 1000x1000 with 1 Axes>"
      ]
     },
     "metadata": {},
     "output_type": "display_data"
    }
   ],
   "source": [
    "unique_topics = sorted(set(topics))\n",
    "fig, ax = plt.subplots(figsize=(10, 10))\n",
    "\n",
    "for t in unique_topics:\n",
    "    if t == -1:\n",
    "        continue\n",
    "    mask = np.array(topics) == t\n",
    "    ax.scatter(\n",
    "        embeddings_2d[mask, 0],\n",
    "        embeddings_2d[mask, 1],\n",
    "        s=20,\n",
    "        label=topic_labels[t],\n",
    "        cmap='tab20' if False else None\n",
    "    )\n",
    "\n",
    "ax.set_title(\"2D Embeddings colored by topic\")\n",
    "ax.legend(title=\"Topic\")\n",
    "ax.set_axis_off()\n",
    "plt.show()"
   ]
  },
  {
   "cell_type": "code",
   "execution_count": 156,
   "id": "bc235f19-b60b-446e-aeb8-92426c1873c8",
   "metadata": {},
   "outputs": [
    {
     "name": "stdout",
     "output_type": "stream",
     "text": [
      "\n",
      "==== Topic 0 ====\n",
      "galaxy     0.0495\n",
      "samsung    0.0443\n",
      "smartphone 0.0313\n",
      "fi         0.0281\n",
      "wi         0.0279\n",
      "huawei     0.0269\n",
      "batterie   0.0251\n",
      "watch      0.0251\n",
      "appareil   0.0246\n",
      "bande      0.0221\n",
      "\n",
      "Example: batterie silicium optimisation ia iphon air apple bien bousculer concurrence samsung apple affronter créer smartphone fin autonomie principal défi surmonter apple mise batterie silicium dense intellig …\n",
      "\n",
      "==== Topic 1 ====\n",
      "film       0.0315\n",
      "rinaldi    0.0257\n",
      "tre        0.0201\n",
      "festival   0.0161\n",
      "anne       0.0146\n",
      "histoire   0.0145\n",
      "faire      0.0130\n",
      "monde      0.0127\n",
      "grand      0.0125\n",
      "astrix     0.0124\n",
      "\n",
      "Example: temps lecture minute saviez festival cannes plein film voir année long métrage inédit format beal moche attendre signé grand auteur interpréter grand vedette traiter grand sujet arriver surgisse milie …\n",
      "\n",
      "==== Topic 2 ====\n",
      "prix       0.0306\n",
      "point      0.0231\n",
      "aspirateur 0.0228\n",
      "robot      0.0202\n",
      "plastique  0.0192\n",
      "systme     0.0180\n",
      "aspiration 0.0174\n",
      "petit      0.0168\n",
      "efficace   0.0154\n",
      "bien       0.0152\n",
      "\n",
      "Example: lancer deebot omni modèle évolué cuvée aspirateur robot ecovacs deebot turbo différer station charge assurer fois rinçage patin lavage vidange collecteur point fort navigation méthodique aspiration ef …\n",
      "\n",
      "==== Topic 3 ====\n",
      "point      0.0345\n",
      "prix       0.0309\n",
      "qualit     0.0282\n",
      "exemple    0.0266\n",
      "chien      0.0260\n",
      "shot       0.0260\n",
      "image      0.0259\n",
      "audio      0.0243\n",
      "fort       0.0233\n",
      "seo        0.0227\n",
      "\n",
      "Example: arrivée fleuron sony perturbe inévitablemer hiérarchie monde casque audio coup essai gamme cesser repousser limite matière technologie confort sonorité mouture test paraître hier numérique exception r …\n",
      "\n",
      "==== Topic 4 ====\n",
      "euro       0.0513\n",
      "france     0.0419\n",
      "milliard   0.0394\n",
      "investissement 0.0332\n",
      "europen    0.0267\n",
      "million    0.0235\n",
      "sommet     0.0233\n",
      "football   0.0232\n",
      "projet     0.0229\n",
      "club       0.0210\n",
      "\n",
      "Example: christophe petit tesson afp économie faire pognon dingue mantra emmanuel macron accueillir lundi mai grand patron venir monde entier versailles sommet choose france choisir france français an création …\n",
      "\n",
      "==== Topic 5 ====\n",
      "trump      0.0379\n",
      "revenu     0.0313\n",
      "impt       0.0245\n",
      "social     0.0239\n",
      "donald     0.0226\n",
      "prsident   0.0193\n",
      "pouvoir    0.0187\n",
      "fiscal     0.0184\n",
      "politique  0.0179\n",
      "amricain   0.0166\n",
      "\n",
      "Example: signal confus chine clairement cible principal programme commercial trump meilleur réponse chine droit douane appuyer davantage consommation intérieur exportation exécution virage représenter énorme d …\n",
      "\n",
      "==== Topic 6 ====\n",
      "bruno      0.0503\n",
      "tat        0.0499\n",
      "retailleau 0.0490\n",
      "lr         0.0416\n",
      "droite     0.0415\n",
      "parti      0.0350\n",
      "lection    0.0343\n",
      "wauquiez   0.0336\n",
      "ministre   0.0327\n",
      "laurent    0.0300\n",
      "\n",
      "Example: ministre intérieur imposer dimanche face laurent wauquiez prendre tête parti républicain an élection présidentiel cache ambition bruno retailleau préférer laurent wauquiez adhérent lr ministre intérie …\n",
      "\n",
      "==== Topic 7 ====\n",
      "valuation  0.0287\n",
      "recherche  0.0280\n",
      "tre        0.0230\n",
      "donne      0.0215\n",
      "compte     0.0204\n",
      "personnel  0.0203\n",
      "pratique   0.0203\n",
      "arnaque    0.0192\n",
      "canada     0.0177\n",
      "suicide    0.0171\n",
      "\n",
      "Example: vérification avérer numéro compte utiliser brasseur communiquer facture malveillant parvenir introduire boîte e-mail charger pièce joindre contenir facture modifier numéro compte replacer fichier boît …\n",
      "\n",
      "==== Topic 8 ====\n",
      "neuf       0.1217\n",
      "rt         0.1143\n",
      "geforce    0.1067\n",
      "ti         0.0966\n",
      "oc         0.0745\n",
      "carte      0.0628\n",
      "gramme     0.0550\n",
      "gigabyte   0.0528\n",
      "graphique  0.0518\n",
      "forerunner 0.0422\n",
      "\n",
      "Example: déclinaison exister prix indiquer onglet tableau hérite go mémoire vidéo geforce rt accessible nvidia geforce rt ti note numérique donnez avis lire test neuf occasion reconditionné msi asus gigabyte z …\n",
      "\n",
      "==== Topic 9 ====\n",
      "eau        0.0314\n",
      "animal     0.0284\n",
      "fromage    0.0272\n",
      "nature     0.0227\n",
      "vgtal      0.0182\n",
      "plante     0.0182\n",
      "tre        0.0177\n",
      "socit      0.0175\n",
      "impact     0.0173\n",
      "mur        0.0169\n",
      "\n",
      "Example: côté phytesia srl installer récemment scry partager terrain serre société phytesia connaître mondialement orchidée jardin produire in vitro opportunité couler source ancien spin off uliège ancien aill …\n",
      "\n",
      "==== Topic 10 ====\n",
      "gaza       0.0394\n",
      "immigration 0.0342\n",
      "isralien   0.0329\n",
      "franais    0.0323\n",
      "dbat       0.0298\n",
      "isral      0.0286\n",
      "dupond     0.0280\n",
      "moretti    0.0280\n",
      "palestinien 0.0280\n",
      "politique  0.0265\n",
      "\n",
      "Example: affront discret infliger chef gouvernement israélien apparaître tentative éviter affrontement militaire ennemi expression mécontentement grandissant égard benjamin netanyahou aucun concession favorise …\n"
     ]
    }
   ],
   "source": [
    "for t in topic_model.get_topic_freq().Topic.drop(0):\n",
    "    print(\"\\n==== Topic\", t, \"====\")\n",
    "    for word, score in topic_model.get_topic(t)[:10]:\n",
    "        print(f\"{word:10s} {score:.4f}\")\n",
    "    print(\"\\nExample:\", topic_model.get_representative_docs(t)[0][:200], \"…\")"
   ]
  },
  {
   "cell_type": "code",
   "execution_count": null,
   "id": "30428a30-e3b3-49f2-aa5e-572b396d3f69",
   "metadata": {},
   "outputs": [],
   "source": [
    "from gensim.models.coherencemodel import CoherenceModel\n",
    "from gensim.corpora import Dictionary\n",
    "\n",
    "tokenized_texts = [doc.split() for doc in cleaned_lemmatized_texts]\n",
    "\n",
    "# Create Gensim dictionary and corpus\n",
    "dictionary = Dictionary(tokenized_texts)\n",
    "corpus = [dictionary.doc2bow(text) for text in tokenized_texts]\n",
    "\n",
    "# 3. Extract topics from BERTopic (list of (word, weight) tuples)\n",
    "all_topics = topic_model.get_topics()\n",
    "\n",
    "# 4. Convert topics to list of words (top 10 words per topic)\n",
    "top_n = 10\n",
    "topics_wordlists = []\n",
    "for topic_id in all_topics:\n",
    "    topic = all_topics[topic_id]\n",
    "    words = [word for word, weight in sorted(topic, key=lambda x: -x[1])[:top_n]]\n",
    "    topics_wordlists.append(words)\n",
    "\n",
    "# 5. Compute coherence scores for each topic\n",
    "coherence_values = []\n",
    "for topic_words in topics_wordlists:\n",
    "    cm = CoherenceModel(\n",
    "        topics=[topic_words],\n",
    "        texts=tokenized_texts,\n",
    "        dictionary=dictionary,\n",
    "        coherence='c_v'\n",
    "    )\n",
    "    coherence_values.append(cm.get_coherence())\n",
    "\n",
    "# 6. Print coherence results\n",
    "avg_coherence = np.mean(coherence_values)\n",
    "print(f\"\\nAverage topic coherence (c_v): {avg_coherence:.4f}\\n\")\n",
    "\n",
    "for i, score in enumerate(coherence_values):\n",
    "    print(f\"Topic {i}: coherence = {score:.4f}\")\n",
    "\n",
    "# 7. Print document counts per topic\n",
    "import collections\n",
    "topic_counts = collections.Counter(topic_model.get_topic_freq().Topic)\n",
    "print(\"\\nDocument counts per topic:\")\n",
    "for topic_id, count in sorted(topic_counts.items()):\n",
    "    print(f\"Topic {topic_id}: {count} docs\")\n",
    "\n",
    "# 8. Flag topics with coherence < 0.35\n",
    "low_coherence_topics = [i for i, c in enumerate(coherence_values) if c < 0.35]\n",
    "if low_coherence_topics:\n",
    "    print(\"\\nTopics with low coherence (<0.35):\", low_coherence_topics)\n",
    "else:\n",
    "    print(\"\\nAll topics have acceptable coherence.\")\n"
   ]
  }
 ],
 "metadata": {
  "kernelspec": {
   "display_name": "Python 3 (ipykernel)",
   "language": "python",
   "name": "python3"
  },
  "language_info": {
   "codemirror_mode": {
    "name": "ipython",
    "version": 3
   },
   "file_extension": ".py",
   "mimetype": "text/x-python",
   "name": "python",
   "nbconvert_exporter": "python",
   "pygments_lexer": "ipython3",
   "version": "3.11.10"
  }
 },
 "nbformat": 4,
 "nbformat_minor": 5
}
